{
  "cells": [
    {
      "cell_type": "code",
      "execution_count": 1,
      "metadata": {
        "id": "-3NcbjBl1vg7",
        "colab": {
          "base_uri": "https://localhost:8080/"
        },
        "outputId": "d8f30332-979e-4720-ed9c-6c98d023a0ec"
      },
      "outputs": [
        {
          "output_type": "stream",
          "name": "stdout",
          "text": [
            "\u001b[?25l   \u001b[90m━━━━━━━━━━━━━━━━━━━━━━━━━━━━━━━━━━━━━━━━\u001b[0m \u001b[32m0.0/491.5 kB\u001b[0m \u001b[31m?\u001b[0m eta \u001b[36m-:--:--\u001b[0m\r\u001b[2K   \u001b[90m━━━━━━━━━━━━━━━━━━━━━━━━━━━━━━━━━━━━━━━━\u001b[0m \u001b[32m491.5/491.5 kB\u001b[0m \u001b[31m15.8 MB/s\u001b[0m eta \u001b[36m0:00:00\u001b[0m\n",
            "\u001b[?25h\u001b[?25l   \u001b[90m━━━━━━━━━━━━━━━━━━━━━━━━━━━━━━━━━━━━━━━━\u001b[0m \u001b[32m0.0/193.6 kB\u001b[0m \u001b[31m?\u001b[0m eta \u001b[36m-:--:--\u001b[0m\r\u001b[2K   \u001b[90m━━━━━━━━━━━━━━━━━━━━━━━━━━━━━━━━━━━━━━━━\u001b[0m \u001b[32m193.6/193.6 kB\u001b[0m \u001b[31m17.1 MB/s\u001b[0m eta \u001b[36m0:00:00\u001b[0m\n",
            "\u001b[?25h\u001b[31mERROR: pip's dependency resolver does not currently take into account all the packages that are installed. This behaviour is the source of the following dependency conflicts.\n",
            "torch 2.6.0+cu124 requires nvidia-cublas-cu12==12.4.5.8; platform_system == \"Linux\" and platform_machine == \"x86_64\", but you have nvidia-cublas-cu12 12.5.3.2 which is incompatible.\n",
            "torch 2.6.0+cu124 requires nvidia-cuda-cupti-cu12==12.4.127; platform_system == \"Linux\" and platform_machine == \"x86_64\", but you have nvidia-cuda-cupti-cu12 12.5.82 which is incompatible.\n",
            "torch 2.6.0+cu124 requires nvidia-cuda-nvrtc-cu12==12.4.127; platform_system == \"Linux\" and platform_machine == \"x86_64\", but you have nvidia-cuda-nvrtc-cu12 12.5.82 which is incompatible.\n",
            "torch 2.6.0+cu124 requires nvidia-cuda-runtime-cu12==12.4.127; platform_system == \"Linux\" and platform_machine == \"x86_64\", but you have nvidia-cuda-runtime-cu12 12.5.82 which is incompatible.\n",
            "torch 2.6.0+cu124 requires nvidia-cudnn-cu12==9.1.0.70; platform_system == \"Linux\" and platform_machine == \"x86_64\", but you have nvidia-cudnn-cu12 9.3.0.75 which is incompatible.\n",
            "torch 2.6.0+cu124 requires nvidia-cufft-cu12==11.2.1.3; platform_system == \"Linux\" and platform_machine == \"x86_64\", but you have nvidia-cufft-cu12 11.2.3.61 which is incompatible.\n",
            "torch 2.6.0+cu124 requires nvidia-curand-cu12==10.3.5.147; platform_system == \"Linux\" and platform_machine == \"x86_64\", but you have nvidia-curand-cu12 10.3.6.82 which is incompatible.\n",
            "torch 2.6.0+cu124 requires nvidia-cusolver-cu12==11.6.1.9; platform_system == \"Linux\" and platform_machine == \"x86_64\", but you have nvidia-cusolver-cu12 11.6.3.83 which is incompatible.\n",
            "torch 2.6.0+cu124 requires nvidia-cusparse-cu12==12.3.1.170; platform_system == \"Linux\" and platform_machine == \"x86_64\", but you have nvidia-cusparse-cu12 12.5.1.3 which is incompatible.\n",
            "torch 2.6.0+cu124 requires nvidia-nvjitlink-cu12==12.4.127; platform_system == \"Linux\" and platform_machine == \"x86_64\", but you have nvidia-nvjitlink-cu12 12.5.82 which is incompatible.\n",
            "gcsfs 2025.3.2 requires fsspec==2025.3.2, but you have fsspec 2025.3.0 which is incompatible.\u001b[0m\u001b[31m\n",
            "\u001b[0m"
          ]
        }
      ],
      "source": [
        "!pip install -U datasets --quiet"
      ]
    },
    {
      "cell_type": "code",
      "execution_count": 1,
      "metadata": {
        "colab": {
          "base_uri": "https://localhost:8080/"
        },
        "id": "JlGb3G91zvMn",
        "outputId": "043a810d-5038-4bac-deaf-f5b04ad8ba44"
      },
      "outputs": [
        {
          "output_type": "stream",
          "name": "stdout",
          "text": [
            "\u001b[2K   \u001b[90m━━━━━━━━━━━━━━━━━━━━━━━━━━━━━━━━━━━━━━━━\u001b[0m \u001b[32m363.4/363.4 MB\u001b[0m \u001b[31m4.5 MB/s\u001b[0m eta \u001b[36m0:00:00\u001b[0m\n",
            "\u001b[2K   \u001b[90m━━━━━━━━━━━━━━━━━━━━━━━━━━━━━━━━━━━━━━━━\u001b[0m \u001b[32m13.8/13.8 MB\u001b[0m \u001b[31m38.0 MB/s\u001b[0m eta \u001b[36m0:00:00\u001b[0m\n",
            "\u001b[2K   \u001b[90m━━━━━━━━━━━━━━━━━━━━━━━━━━━━━━━━━━━━━━━━\u001b[0m \u001b[32m24.6/24.6 MB\u001b[0m \u001b[31m19.3 MB/s\u001b[0m eta \u001b[36m0:00:00\u001b[0m\n",
            "\u001b[2K   \u001b[90m━━━━━━━━━━━━━━━━━━━━━━━━━━━━━━━━━━━━━━━━\u001b[0m \u001b[32m883.7/883.7 kB\u001b[0m \u001b[31m21.7 MB/s\u001b[0m eta \u001b[36m0:00:00\u001b[0m\n",
            "\u001b[2K   \u001b[90m━━━━━━━━━━━━━━━━━━━━━━━━━━━━━━━━━━━━━━━━\u001b[0m \u001b[32m664.8/664.8 MB\u001b[0m \u001b[31m1.3 MB/s\u001b[0m eta \u001b[36m0:00:00\u001b[0m\n",
            "\u001b[2K   \u001b[90m━━━━━━━━━━━━━━━━━━━━━━━━━━━━━━━━━━━━━━━━\u001b[0m \u001b[32m211.5/211.5 MB\u001b[0m \u001b[31m5.5 MB/s\u001b[0m eta \u001b[36m0:00:00\u001b[0m\n",
            "\u001b[2K   \u001b[90m━━━━━━━━━━━━━━━━━━━━━━━━━━━━━━━━━━━━━━━━\u001b[0m \u001b[32m56.3/56.3 MB\u001b[0m \u001b[31m13.1 MB/s\u001b[0m eta \u001b[36m0:00:00\u001b[0m\n",
            "\u001b[2K   \u001b[90m━━━━━━━━━━━━━━━━━━━━━━━━━━━━━━━━━━━━━━━━\u001b[0m \u001b[32m127.9/127.9 MB\u001b[0m \u001b[31m7.7 MB/s\u001b[0m eta \u001b[36m0:00:00\u001b[0m\n",
            "\u001b[2K   \u001b[90m━━━━━━━━━━━━━━━━━━━━━━━━━━━━━━━━━━━━━━━━\u001b[0m \u001b[32m207.5/207.5 MB\u001b[0m \u001b[31m5.7 MB/s\u001b[0m eta \u001b[36m0:00:00\u001b[0m\n",
            "\u001b[2K   \u001b[90m━━━━━━━━━━━━━━━━━━━━━━━━━━━━━━━━━━━━━━━━\u001b[0m \u001b[32m21.1/21.1 MB\u001b[0m \u001b[31m67.9 MB/s\u001b[0m eta \u001b[36m0:00:00\u001b[0m\n",
            "\u001b[?25h"
          ]
        }
      ],
      "source": [
        "!pip install datasets gradio torch torchvision --quiet\n",
        "!pip install transformers --quiet --upgrade"
      ]
    },
    {
      "cell_type": "code",
      "execution_count": 2,
      "metadata": {
        "id": "_AJlqY0_z45p"
      },
      "outputs": [],
      "source": [
        "import torch\n",
        "import torch.nn as nn\n",
        "import torch.optim as optim\n",
        "from torch.utils.data import Dataset, DataLoader\n",
        "from torch.nn.utils.rnn import pad_sequence\n",
        "from collections import Counter, defaultdict\n",
        "import random\n",
        "import numpy as np\n",
        "from datasets import load_dataset\n",
        "\n",
        "torch.manual_seed(42)\n",
        "random.seed(42)\n",
        "np.random.seed(42)\n",
        "device = torch.device(\"cuda\" if torch.cuda.is_available() else \"cpu\")\n"
      ]
    },
    {
      "cell_type": "code",
      "execution_count": 22,
      "metadata": {
        "id": "CtJYvDiQFkRv"
      },
      "outputs": [],
      "source": [
        "# ===============================\n",
        "# 2. تحميل الداتا\n",
        "# ===============================\n",
        "dataset = load_dataset(\"ag_news\") # Huggingface فيه كل خبر وتصنيفه\n",
        "\n",
        "train_texts = [item[\"text\"] for item in dataset[\"train\"]] # بحط الخبر نفسه\n",
        "train_labels = [item[\"label\"] for item in dataset[\"train\"]]# بحط تصنيف الخبر اي رقم التصنيف\n",
        "test_texts = [item[\"text\"] for item in dataset[\"test\"]] # نفس الشي بس ذا للاختبار\n",
        "test_labels = [item[\"label\"] for item in dataset[\"test\"]]"
      ]
    },
    {
      "cell_type": "code",
      "execution_count": 11,
      "metadata": {
        "colab": {
          "base_uri": "https://localhost:8080/",
          "height": 722
        },
        "id": "f2Nnw67KVG4i",
        "outputId": "e6242867-a804-429d-b6d5-e23bf44e815c"
      },
      "outputs": [
        {
          "output_type": "stream",
          "name": "stdout",
          "text": [
            " Number of training samples: 120000\n",
            " Number of test samples: 7600\n",
            "\n",
            " Distribution of categories in training:\n",
            "label_name\n",
            "Business        30000\n",
            "Science/Tech    30000\n",
            "Sports          30000\n",
            "World           30000\n",
            "Name: count, dtype: int64\n",
            "\n",
            " Average length of texts: 37.84745\n"
          ]
        },
        {
          "output_type": "stream",
          "name": "stderr",
          "text": [
            "/tmp/ipython-input-11-410107093.py:39: FutureWarning: \n",
            "\n",
            "Passing `palette` without assigning `hue` is deprecated and will be removed in v0.14.0. Assign the `x` variable to `hue` and set `legend=False` for the same effect.\n",
            "\n",
            "  sns.countplot(data=df_train, x=\"label_name\", order=df_train[\"label_name\"].value_counts().index, palette=\"coolwarm\")\n"
          ]
        },
        {
          "output_type": "display_data",
          "data": {
            "text/plain": [
              "<Figure size 800x500 with 1 Axes>"
            ],
            "image/png": "[encoded data removed]"
          },
          "metadata": {}
        }
      ],
      "source": [
        "import pandas as pd\n",
        "import matplotlib.pyplot as plt\n",
        "import seaborn as sns\n",
        "\n",
        "dataset = load_dataset(\"ag_news\") # Huggingface فيه كل خبر وتصنيفه\n",
        "label_map = {\n",
        "    0: \"World\",\n",
        "    1: \"Sports\",\n",
        "    2: \"Business\",\n",
        "    3: \"Science/Tech\"\n",
        "}\n",
        "\n",
        "df_train = pd.DataFrame(dataset[\"train\"])\n",
        "df_test = pd.DataFrame(dataset[\"test\"])\n",
        "\n",
        "df_train[\"label_name\"] = df_train[\"label\"].map(label_map)\n",
        "df_test[\"label_name\"] = df_test[\"label\"].map(label_map)\n",
        "\n",
        "# ===============================\n",
        "# 2. EDA التحليل\n",
        "# ===============================\n",
        "\n",
        "# عدد عينات التدريب والاختبار\n",
        "print(\" Number of training samples:\", len(df_train))\n",
        "print(\" Number of test samples:\", len(df_test))\n",
        "\n",
        "# عدد الاخبار لكل فئه\n",
        "print(\"\\n Distribution of categories in training:\")\n",
        "print(df_train[\"label_name\"].value_counts())\n",
        "\n",
        "# متوسط طول النصوص\n",
        "df_train[\"text_length\"] = df_train[\"text\"].apply(lambda x: len(x.split()))\n",
        "print(\"\\n Average length of texts:\", df_train[\"text_length\"].mean())\n",
        "\n",
        "# ===============================\n",
        "# 3. سويت رسم بياني عشان اعرف الداتا متوازنة او لا\n",
        "# ===============================\n",
        "plt.figure(figsize=(8, 5))\n",
        "sns.countplot(data=df_train, x=\"label_name\", order=df_train[\"label_name\"].value_counts().index, palette=\"coolwarm\")\n",
        "plt.title(\"Distribution of classes in training data\")\n",
        "plt.xlabel(\"Category\")\n",
        "plt.ylabel(\"Number of samples\")\n",
        "plt.xticks(rotation=45)\n",
        "plt.tight_layout()\n",
        "plt.show()\n"
      ]
    },
    {
      "cell_type": "code",
      "execution_count": 12,
      "metadata": {
        "colab": {
          "base_uri": "https://localhost:8080/"
        },
        "id": "yHCjRynnWFeA",
        "outputId": "83747441-2e26-4474-928e-071af7345b09"
      },
      "outputs": [
        {
          "output_type": "stream",
          "name": "stdout",
          "text": [
            "                                                     text  label label_name  \\\n",
            "116796  It #39;s been swell, Pedro Perhaps in our hear...      1     Sports   \n",
            "39819   US soldiers flock to laser eye clinic FORT CAM...      0      World   \n",
            "78339   MSU med school plan to move has flaws, study s...      2   Business   \n",
            "38237   Viacom in China Tie-Up with Beijing TV (Reuter...      2   Business   \n",
            "69271   Coulthard has one race to prove his worth Davi...      1     Sports   \n",
            "\n",
            "        text_length  \n",
            "116796           33  \n",
            "39819            38  \n",
            "78339            36  \n",
            "38237            38  \n",
            "69271            38  \n"
          ]
        }
      ],
      "source": [
        "# طباعة 5 عينات عشوائية من بيانات التدريب\n",
        "print(df_train.sample(5))\n"
      ]
    },
    {
      "cell_type": "code",
      "execution_count": 13,
      "metadata": {
        "id": "Qa5NH3vxFoet"
      },
      "outputs": [],
      "source": [
        "# ===============================\n",
        "# 3. تنظيف الداتا\n",
        "# ===============================\n",
        "import re\n",
        "def clean_text(text):\n",
        "    text = text.lower()\n",
        "    text = re.sub(r\"[^\\w\\s]\", \"\", text)  # إزالة الرموز\n",
        "    text = re.sub(r\"\\d+\", \"\", text)      # إزالة الأرقام\n",
        "    return text.strip()\n",
        "train_texts = [clean_text(t) for t in train_texts]\n",
        "test_texts = [clean_text(t) for t in test_texts]\n"
      ]
    },
    {
      "cell_type": "code",
      "execution_count": 14,
      "metadata": {
        "id": "DwNIc8Sc0Hb4"
      },
      "outputs": [],
      "source": [
        "# ======================================================\n",
        "# 2. ترميز BPE\n",
        "# ======================================================\n",
        "def get_vocab(texts):\n",
        "    vocab = Counter()\n",
        "    for line in texts:\n",
        "        for word in line.strip().split():\n",
        "            vocab[tuple(word) + ('</w>',)] += 1\n",
        "    return vocab\n",
        "\n",
        "def get_stats(vocab):\n",
        "    pairs = defaultdict(int)\n",
        "    for word, freq in vocab.items():\n",
        "        for i in range(len(word) - 1):\n",
        "            pairs[(word[i], word[i+1])] += freq\n",
        "    return pairs\n",
        "\n",
        "def merge_vocab(pair, vocab):\n",
        "    bigram = ''.join(pair)\n",
        "    new_vocab = {}\n",
        "    for word, freq in vocab.items():\n",
        "        new_word = []\n",
        "        i = 0\n",
        "        while i < len(word):\n",
        "            if i < len(word) - 1 and word[i] == pair[0] and word[i+1] == pair[1]:\n",
        "                new_word.append(bigram)\n",
        "                i += 2\n",
        "            else:\n",
        "                new_word.append(word[i])\n",
        "                i += 1\n",
        "        new_vocab[tuple(new_word)] = freq\n",
        "    return new_vocab\n",
        "\n",
        "def train_bpe(texts, num_merges=3000):\n",
        "    vocab = get_vocab(texts)\n",
        "    for _ in range(num_merges):\n",
        "        pairs = get_stats(vocab)\n",
        "        if not pairs:\n",
        "            break\n",
        "        best_pair = max(pairs, key=pairs.get)\n",
        "        vocab = merge_vocab(best_pair, vocab)\n",
        "    return vocab\n",
        "\n",
        "def build_token2id(vocab):\n",
        "    tokens = set()\n",
        "    for word in vocab.keys():\n",
        "        tokens.update(word)\n",
        "    token2id = {token: idx + 2 for idx, token in enumerate(sorted(tokens))}\n",
        "    token2id[\"<PAD>\"] = 0\n",
        "    token2id[\"<UNK>\"] = 1\n",
        "    return token2id\n",
        "\n",
        "def bpe_tokenize(word, vocab_keys):  # ياخذ الكلمة ويقسمها لاجزاء اصغر\n",
        "    word = tuple(word) + ('</w>',)\n",
        "    tokens = list(word)\n",
        "    while True:\n",
        "        pairs = [(tokens[i], tokens[i + 1]) for i in range(len(tokens) - 1)]\n",
        "        pairs_str = [''.join(p) for p in pairs]\n",
        "        candidates = [p for p in pairs_str if p in vocab_keys]\n",
        "        if not candidates:\n",
        "            break\n",
        "        best = candidates[0]\n",
        "        i = pairs_str.index(best)\n",
        "        tokens = tokens[:i] + [best] + tokens[i+2:]\n",
        "    if tokens and tokens[-1] == '</w>':\n",
        "        tokens = tokens[:-1]\n",
        "    return tokens\n",
        "\n",
        "def tokenize_sentence(sentence, vocab_keys):  #كل جملة تنكسر إلى قائمة من التوكنز الصغار.\n",
        "    tokens = []\n",
        "    for word in sentence.strip().split():\n",
        "        tokens.extend(bpe_tokenize(word, vocab_keys))\n",
        "    return tokens\n",
        "\n",
        "def tokens_to_ids(tokens, token2id):  #يحول التوكنز إلى ID جاهز للإدخال في النموذج.\n",
        "    return [token2id.get(token, token2id[\"<UNK>\"]) for token in tokens]\n",
        "\n",
        "\n",
        "#يحول كل النصوص إلى تسلسلات من الأرقام.\n",
        "#يستخدم pad_sequence لأن النماذج تحب أطوال متساوية.\n",
        "def encode_texts(texts, vocab_keys, token2id):\n",
        "    all_ids = []\n",
        "    for text in texts:\n",
        "        tokens = tokenize_sentence(text, vocab_keys)\n",
        "        ids = tokens_to_ids(tokens, token2id)\n",
        "        all_ids.append(torch.tensor(ids, dtype=torch.long))\n",
        "    return pad_sequence(all_ids, batch_first=True, padding_value=token2id[\"<PAD>\"])\n"
      ]
    },
    {
      "cell_type": "code",
      "execution_count": 15,
      "metadata": {
        "colab": {
          "base_uri": "https://localhost:8080/"
        },
        "id": "fEtxubqF0Qug",
        "outputId": "1a9f8e20-672a-4a0e-fc49-bb4afe349935"
      },
      "outputs": [
        {
          "output_type": "stream",
          "name": "stdout",
          "text": [
            "Training BPE tokenizer...\n",
            "Vocabulary size: 3015\n"
          ]
        }
      ],
      "source": [
        "# ======================================================\n",
        "# 4. بناء ال vocab وترميز النصوص\n",
        "# ======================================================\n",
        "print(\"Training BPE tokenizer...\")\n",
        "bpe_vocab = train_bpe(train_texts, num_merges=3000)\n",
        "vocab_keys = set([''.join(k) for k in bpe_vocab.keys()])\n",
        "token2id = build_token2id(bpe_vocab)\n",
        "\n",
        "print(f\"Vocabulary size: {len(token2id)}\")\n",
        "\n",
        "train_encoded = encode_texts(train_texts, vocab_keys, token2id)\n",
        "test_encoded = encode_texts(test_texts, vocab_keys, token2id)"
      ]
    },
    {
      "cell_type": "code",
      "execution_count": 16,
      "metadata": {
        "id": "oE373rxB0Qbv"
      },
      "outputs": [],
      "source": [
        "\n",
        "# ======================================================\n",
        "# 5. Dataset و DataLoader\n",
        "# ======================================================\n",
        "class AGNewsDataset(Dataset):\n",
        "    def __init__(self, encoded_texts, labels):\n",
        "        self.encoded_texts = encoded_texts\n",
        "        self.labels = labels\n",
        "    def __len__(self):\n",
        "        return len(self.labels)\n",
        "    def __getitem__(self, idx):\n",
        "        return self.encoded_texts[idx], self.labels[idx]\n",
        "\n",
        "def collate_fn(batch):\n",
        "    texts, labels = zip(*batch)\n",
        "    texts_padded = pad_sequence(texts, batch_first=True, padding_value=token2id[\"<PAD>\"])\n",
        "    labels = torch.tensor(labels, dtype=torch.long)\n",
        "    return texts_padded, labels\n",
        "\n",
        "train_dataset = AGNewsDataset(train_encoded, train_labels)\n",
        "test_dataset = AGNewsDataset(test_encoded, test_labels)\n",
        "\n",
        "train_loader = DataLoader(train_dataset, batch_size=32, shuffle=True, collate_fn=collate_fn)\n",
        "test_loader = DataLoader(test_dataset, batch_size=32, shuffle=False, collate_fn=collate_fn)\n"
      ]
    },
    {
      "cell_type": "code",
      "execution_count": 17,
      "metadata": {
        "id": "7jW7QmNH1pOk"
      },
      "outputs": [],
      "source": [
        "# ======================================================\n",
        "# 6. نموذج LSTM مع Mean Pooling\n",
        "# ======================================================\n",
        "class TextClassifier(nn.Module):\n",
        "    def __init__(self, vocab_size, embed_dim=128, hidden_dim=256, num_classes=4):\n",
        "        super(TextClassifier, self).__init__()\n",
        "        self.embedding = nn.Embedding(vocab_size, embed_dim, padding_idx=token2id[\"<PAD>\"])   # قلوف امبدنق\n",
        "        self.lstm = nn.LSTM(embed_dim, hidden_dim, batch_first=True)\n",
        "        self.dropout = nn.Dropout(0.3)\n",
        "        self.fc = nn.Linear(hidden_dim, num_classes)\n",
        "\n",
        "    def forward(self, x):\n",
        "        x = self.embedding(x)\n",
        "        lstm_out, _ = self.lstm(x)\n",
        "        mean_pooled = lstm_out.mean(dim=1)\n",
        "        out = self.fc(self.dropout(mean_pooled))\n",
        "        return out"
      ]
    },
    {
      "cell_type": "code",
      "execution_count": 18,
      "metadata": {
        "id": "JgY4Ka-_1Vt_"
      },
      "outputs": [],
      "source": [
        "\n",
        "# ======================================================\n",
        "# 7. تدريب وتقييم النموذج\n",
        "# ======================================================\n",
        "def train_epoch(model, data_loader, optimizer, criterion):\n",
        "    model.train()\n",
        "    total_loss = 0\n",
        "    for texts, labels in data_loader:\n",
        "        texts, labels = texts.to(device), labels.to(device)\n",
        "        optimizer.zero_grad()\n",
        "        outputs = model(texts)\n",
        "        loss = criterion(outputs, labels)\n",
        "        loss.backward()\n",
        "        optimizer.step()\n",
        "        total_loss += loss.item()\n",
        "    return total_loss / len(data_loader)\n",
        "\n",
        "def eval_model(model, data_loader):\n",
        "    model.eval()\n",
        "    correct, total = 0, 0\n",
        "    with torch.no_grad():\n",
        "        for texts, labels in data_loader:\n",
        "            texts, labels = texts.to(device), labels.to(device)\n",
        "            outputs = model(texts)\n",
        "            preds = outputs.argmax(dim=1)\n",
        "            correct += (preds == labels).sum().item()\n",
        "            total += labels.size(0)\n",
        "    return correct / total\n"
      ]
    },
    {
      "cell_type": "code",
      "execution_count": 19,
      "metadata": {
        "colab": {
          "base_uri": "https://localhost:8080/"
        },
        "id": "momMVlNE1Z5s",
        "outputId": "301703e1-5f6b-4367-8b62-f3781618ec68"
      },
      "outputs": [
        {
          "output_type": "stream",
          "name": "stdout",
          "text": [
            "Epoch 1/10 - Loss: 0.6555 - Accuracy: 0.8445\n",
            "Epoch 2/10 - Loss: 0.3808 - Accuracy: 0.8671\n",
            "Epoch 3/10 - Loss: 0.3188 - Accuracy: 0.8792\n",
            "Epoch 4/10 - Loss: 0.2765 - Accuracy: 0.8829\n",
            "Epoch 5/10 - Loss: 0.2460 - Accuracy: 0.8882\n",
            "Epoch 6/10 - Loss: 0.2191 - Accuracy: 0.8863\n",
            "Epoch 7/10 - Loss: 0.2021 - Accuracy: 0.8825\n",
            "Epoch 8/10 - Loss: 0.1878 - Accuracy: 0.8864\n",
            "Epoch 9/10 - Loss: 0.1759 - Accuracy: 0.8858\n",
            "Epoch 10/10 - Loss: 0.1646 - Accuracy: 0.8838\n"
          ]
        }
      ],
      "source": [
        "\n",
        "# ======================================================\n",
        "# 8. إعداد النموذج، الخسارة، المُحسّن، والتدريب\n",
        "# ======================================================\n",
        "model = TextClassifier(len(token2id), num_classes=4).to(device)\n",
        "criterion = nn.CrossEntropyLoss()\n",
        "optimizer = optim.Adam(model.parameters(), lr=0.001)\n",
        "\n",
        "epochs = 10\n",
        "for epoch in range(epochs):\n",
        "    loss = train_epoch(model, train_loader, optimizer, criterion)\n",
        "    accuracy = eval_model(model, test_loader)\n",
        "    print(f\"Epoch {epoch+1}/{epochs} - Loss: {loss:.4f} - Accuracy: {accuracy:.4f}\")"
      ]
    },
    {
      "cell_type": "code",
      "execution_count": 20,
      "metadata": {
        "colab": {
          "base_uri": "https://localhost:8080/",
          "height": 611
        },
        "id": "t7uacW50b6dA",
        "outputId": "db3f06b5-bd57-4114-e45a-45526ef588c1"
      },
      "outputs": [
        {
          "output_type": "stream",
          "name": "stdout",
          "text": [
            "Colab notebook detected. To show errors in colab notebook, set debug=True in launch()\n",
            "* Running on public URL: https://9f0696b106612e18b0.gradio.live\n",
            "\n",
            "This share link expires in 1 week. For free permanent hosting and GPU upgrades, run `gradio deploy` from the terminal in the working directory to deploy to Hugging Face Spaces (https://huggingface.co/spaces)\n"
          ]
        },
        {
          "output_type": "display_data",
          "data": {
            "text/plain": [
              "<IPython.core.display.HTML object>"
            ],
            "text/html": [
              "<div><iframe src=\"https://9f0696b106612e18b0.gradio.live\" width=\"100%\" height=\"500\" allow=\"autoplay; camera; microphone; clipboard-read; clipboard-write;\" frameborder=\"0\" allowfullscreen></iframe></div>"
            ]
          },
          "metadata": {}
        },
        {
          "output_type": "execute_result",
          "data": {
            "text/plain": []
          },
          "metadata": {},
          "execution_count": 20
        }
      ],
      "source": [
        "import gradio as gr\n",
        "import torch\n",
        "\n",
        "label_map = {\n",
        "    0: \"World\",\n",
        "    1: \"Sports\",\n",
        "    2: \"Business\",\n",
        "    3: \"Science/Tech\"\n",
        "}\n",
        "\n",
        "def predict(text):\n",
        "    model.eval()\n",
        "    tokens = tokenize_sentence(text, vocab_keys)\n",
        "    ids = tokens_to_ids(tokens, token2id)\n",
        "    input_tensor = torch.tensor(ids, dtype=torch.long).unsqueeze(0).to(device)\n",
        "    with torch.no_grad():\n",
        "        outputs = model(input_tensor)\n",
        "    pred = outputs.argmax(dim=1).item()\n",
        "    return f\"{label_map[pred]}\"\n",
        "\n",
        "\n",
        "css = \"\"\"\n",
        "textarea, input, .gr-textbox {\n",
        "    background-color: rgba(128, 128, 128, 0.15);\n",
        "    color: white;\n",
        "    border: 1px solid #ccc;\n",
        "    border-radius: 3px;\n",
        "}\n",
        "\n",
        "body, html, .gradio-container, #container {\n",
        "    background: linear-gradient(135deg, #5c74a3, #b17bc4, #4a4a4a);\n",
        "    background-size: 400% 400%;\n",
        "    animation: gradientShift 15s ease infinite;\n",
        "    color: white;\n",
        "    font-family: Arial, sans-serif;\n",
        "    padding: 0;\n",
        "    margin: 0;\n",
        "    position: relative;\n",
        "}\n",
        "\n",
        "@keyframes gradientShift {\n",
        "    0% {background-position: 0% 50%;}\n",
        "    50% {background-position: 100% 50%;}\n",
        "    100% {background-position: 0% 50%;}\n",
        "}\n",
        "\n",
        "#header {\n",
        "    display: flex;\n",
        "    align-items: center;\n",
        "    justify-content: flex-end;\n",
        "    gap: 20px;\n",
        "    margin-top: -30px;\n",
        "    margin-bottom: 10px;\n",
        "}\n",
        "\n",
        "#logo-container img {\n",
        "    height: 80px;\n",
        "    width: auto;\n",
        "    object-fit: contain;\n",
        "    background: none !important;\n",
        "}\n",
        "\n",
        "#title-center {\n",
        "    text-align: center;\n",
        "    color: white;\n",
        "    margin-bottom: 40px;\n",
        "    margin-top: 20px;\n",
        "}\n",
        "\n",
        "#title-center h1 {\n",
        "    margin: 0;\n",
        "    font-size: 36px;\n",
        "    font-weight: bold;\n",
        "}\n",
        "\n",
        "#title-center p {\n",
        "    margin: 5px 0 0 0;\n",
        "    font-size: 18px;\n",
        "}\n",
        "\n",
        "/* زر Classify غامق وواضح 100% */\n",
        "#classify_btn button {\n",
        "    background-color: #000000 !important;\n",
        "    color: #ffffff !important;\n",
        "    font-weight: bold !important;\n",
        "    border: none !important;\n",
        "    border-radius: 6px !important;\n",
        "    padding: 14px 28px !important;\n",
        "    font-size: 18px !important;\n",
        "    opacity: 1 !important;\n",
        "    box-shadow: 0px 4px 12px rgba(0,0,0,0.6);\n",
        "    z-index: 9999;\n",
        "}\n",
        "\n",
        "/* زر عند التحويم */\n",
        "#classify_btn button:hover {\n",
        "    background-color: #222222 !important;\n",
        "    transform: scale(1.05);\n",
        "}\n",
        "\n",
        "/* رفع البوكسات */\n",
        ".gr-textbox {\n",
        "    margin-top: -40px;\n",
        "}\n",
        "\n",
        "/* صورة الخلفية */\n",
        "#background-logo {\n",
        "    position: fixed;\n",
        "    bottom: 0;\n",
        "    left: 0;\n",
        "    width: 750px;\n",
        "    opacity: 0.45;\n",
        "    z-index: 0;\n",
        "    pointer-events: none;\n",
        "}\n",
        "\"\"\"\n",
        "\n",
        "with gr.Blocks(css=css, elem_id=\"container\") as interface:\n",
        "    gr.HTML(\n",
        "        \"\"\"\n",
        "        <div id=\"header\">\n",
        "            <div id=\"logo-container\">\n",
        "                <img src=\"https://tuwaiq.edu.sa/img/logo.png\" alt=\"Logo\" />\n",
        "            </div>\n",
        "        </div>\n",
        "        <div id=\"title-center\">\n",
        "            <h1>News Classification</h1>\n",
        "            <p>Enter the news text, and we will assign it the appropriate category.</p>\n",
        "        </div>\n",
        "        <img id=\"background-logo\" src=\"https://tuwaiq.edu.sa/img/Tuwaiq_mounten.png\" alt=\"bg-logo\">\n",
        "        \"\"\"\n",
        "    )\n",
        "\n",
        "    text_input = gr.Textbox(lines=6, placeholder=\"Write the news text here...\", label=\"News Text\")\n",
        "    prediction_output = gr.Textbox(lines=1, label=\"Classification Result\")\n",
        "    classify_btn = gr.Button(\"Classify Here\", elem_id=\"classify_btn\")\n",
        "\n",
        "    classify_btn.click(fn=predict, inputs=text_input, outputs=prediction_output)\n",
        "\n",
        "interface.launch(share=True)\n"
      ]
    }
  ],
  "metadata": {
    "accelerator": "GPU",
    "colab": {
      "gpuType": "T4",
      "provenance": []
    },
    "kernelspec": {
      "display_name": "Python 3",
      "name": "python3"
    },
    "language_info": {
      "name": "python"
    }
  },
  "nbformat": 4,
  "nbformat_minor": 0
}